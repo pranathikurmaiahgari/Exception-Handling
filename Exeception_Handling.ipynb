{
 "cells": [
  {
   "cell_type": "markdown",
   "id": "93a2cf4b-ec42-4e6a-9fe2-cc4c40a5ed7c",
   "metadata": {},
   "source": [
    "Q1. What is an Exception in python? Write the difference between Exceptions and syntax errors?"
   ]
  },
  {
   "cell_type": "markdown",
   "id": "dc03d447-328e-4973-85c3-3f06b303df1f",
   "metadata": {},
   "source": [
    "Exception is a event that is raised when some internal events occur which change the normal flow of the program.\n",
    "SYNTAX ERRORS:\n",
    "    This error is caused when there is a change in syntax or wrong syntax is used.It leads to the terrmination of the program.\n",
    "These errrors are also called as Run-time errors\n",
    "EXCEPTIONS:\n",
    "    Exceptions are raised when the program is syntactically correct but code results in a error.this error does not stop the program but it change the normal flow of the program.\n",
    "These errors are also called as Logical errors.  "
   ]
  },
  {
   "cell_type": "markdown",
   "id": "006f4c81-348f-4f4e-9fef-3e3ff999036e",
   "metadata": {},
   "source": [
    "Q2. What happens when an exception is not handled? Explain with an example?"
   ]
  },
  {
   "cell_type": "code",
   "execution_count": 2,
   "id": "b9341c65-0381-47a8-8545-d8ea9caf31c9",
   "metadata": {},
   "outputs": [
    {
     "ename": "SyntaxError",
     "evalue": "expected 'except' or 'finally' block (706242977.py, line 6)",
     "output_type": "error",
     "traceback": [
      "\u001b[0;36m  Cell \u001b[0;32mIn[2], line 6\u001b[0;36m\u001b[0m\n\u001b[0;31m    print(\"the division results in an error\")\u001b[0m\n\u001b[0m    ^\u001b[0m\n\u001b[0;31mSyntaxError\u001b[0m\u001b[0;31m:\u001b[0m expected 'except' or 'finally' block\n"
     ]
    }
   ],
   "source": [
    "#If a exception is not handled after it has been raised then it terminates and quits and the code past the line will not be executed.\n",
    "try:\n",
    "    a=10\n",
    "    b=0\n",
    "    print(a/b)\n",
    "print(\"the division results in an error\")"
   ]
  },
  {
   "cell_type": "markdown",
   "id": "41439d56-9eb7-4bc1-9c07-481f79725dc0",
   "metadata": {},
   "source": [
    "Q3. Which Python statements are used to catch and  handle exceptions? Explain with an example?"
   ]
  },
  {
   "cell_type": "markdown",
   "id": "bc379769-ff02-4f9c-b98a-d5e18c2d1c5b",
   "metadata": {},
   "source": [
    "\"try\" python statement is used to catch an python exception\n",
    "\"except\" python statement is used to handle an python exception"
   ]
  },
  {
   "cell_type": "code",
   "execution_count": 3,
   "id": "25e8bc73-d2d4-4404-a2df-fdff5b1d5c7e",
   "metadata": {},
   "outputs": [
    {
     "name": "stdout",
     "output_type": "stream",
     "text": [
      "unsupported operand type(s) for +: 'int' and 'str'\n"
     ]
    }
   ],
   "source": [
    "try:\n",
    "    a = 123\n",
    "    b = \"hello\"\n",
    "    c = a + b\n",
    "    print(c)\n",
    "except Exception as e:\n",
    "    print(e)\n",
    "    "
   ]
  },
  {
   "cell_type": "markdown",
   "id": "75776861-26b4-457c-aab1-cbc365608115",
   "metadata": {},
   "source": [
    "Q4. Explain with an example:\n",
    "\n",
    "    try and else\n",
    "    finally\n",
    "    raise"
   ]
  },
  {
   "cell_type": "code",
   "execution_count": 2,
   "id": "e330df25-c8b2-4530-9053-620ddf0c4726",
   "metadata": {},
   "outputs": [
    {
     "name": "stdout",
     "output_type": "stream",
     "text": [
      "Sorry,output is less than 20\n",
      "The code will get executed even if a error occurs\n"
     ]
    }
   ],
   "source": [
    "#try block will throw catch a exception and only when try block doesnt throw a exception and get exceuted else block will execute\n",
    "try:\n",
    "    a = 12\n",
    "    b = 2\n",
    "    if ( a / b ) <20:\n",
    "        #raise keyword raisees a specific exception when a condition is met or the code encounters\n",
    "        raise Exception(\"Sorry,output is less than 20\")\n",
    "    print( a / b )\n",
    "except Exception as e:\n",
    "    print(e)\n",
    "else:\n",
    "    print(\"The code hass no error\")\n",
    "#finally block is used when a code to get executed compulsory\n",
    "finally:\n",
    "    print(\"The code will get executed even if a error occurs\")\n",
    "    "
   ]
  },
  {
   "cell_type": "markdown",
   "id": "193340d6-01e8-4da6-9b16-0d18354ecf1f",
   "metadata": {},
   "source": [
    "Q5. What are Custom Exceptions in python? Why do we need Custom Exceptions? Explain with an example?"
   ]
  },
  {
   "cell_type": "markdown",
   "id": "69bb720f-2898-462b-809f-b91ec5fda59b",
   "metadata": {},
   "source": [
    "Custom Exceptions are used to raise a exception which is not built-in.when we want to raise a exception if a certain condition is not met that time Custom Exception help us.\n"
   ]
  },
  {
   "cell_type": "code",
   "execution_count": 13,
   "id": "9b115c82-a0ca-4e2f-80af-887491d6684a",
   "metadata": {},
   "outputs": [],
   "source": [
    "class Error(Exception):\n",
    "    def __init__(self,msg):\n",
    "        self.msg=msg"
   ]
  },
  {
   "cell_type": "code",
   "execution_count": 14,
   "id": "968a1334-1eb2-4c63-b3d2-1b32cad065e6",
   "metadata": {},
   "outputs": [],
   "source": [
    "def validate_number(a):\n",
    "    if a < 0:\n",
    "        raise Error(\"enter a positive integer\")"
   ]
  },
  {
   "cell_type": "code",
   "execution_count": 15,
   "id": "0c991473-15b2-46e0-b7e8-9d5c0f69a310",
   "metadata": {},
   "outputs": [
    {
     "name": "stdin",
     "output_type": "stream",
     "text": [
      "Enter a integer -13\n"
     ]
    },
    {
     "name": "stdout",
     "output_type": "stream",
     "text": [
      "enter a positive integer\n"
     ]
    }
   ],
   "source": [
    "try:\n",
    "    a = int(input(\"Enter a integer\"))\n",
    "    validate_number(a)\n",
    "except Error as e:\n",
    "    print(e)"
   ]
  },
  {
   "cell_type": "markdown",
   "id": "23cbd8da-e5c5-4a38-861f-baf4772db07a",
   "metadata": {},
   "source": [
    "Q6. Create custom exception class. Use this class to handle an exception."
   ]
  },
  {
   "cell_type": "code",
   "execution_count": 36,
   "id": "0f91057e-bdef-43f9-8284-c6ae42f3468c",
   "metadata": {},
   "outputs": [],
   "source": [
    "class Errors(Exception):\n",
    "    def __init__(self,msg):\n",
    "        self.msg = msg"
   ]
  },
  {
   "cell_type": "code",
   "execution_count": 39,
   "id": "6fb79264-4e7b-4fb6-bdc7-6679777ef4e6",
   "metadata": {},
   "outputs": [],
   "source": [
    "def validate_type(a):\n",
    "    for i in a:\n",
    "        if type(i)== str:\n",
    "            raise Errors(\"list should only contain integers\")"
   ]
  },
  {
   "cell_type": "code",
   "execution_count": null,
   "id": "68bfd487-4e3a-4c50-bcd3-7712bd481533",
   "metadata": {},
   "outputs": [],
   "source": [
    "try:\n",
    "    a=[1 , 2 , 3 ,\"abc\"]    \n",
    "    for i in a:\n",
    "        validate_type(a)\n",
    "except Errors as e:\n",
    "    print(e)"
   ]
  },
  {
   "cell_type": "code",
   "execution_count": null,
   "id": "9e63b15a-732c-4b0c-be7d-7de96b70fefe",
   "metadata": {},
   "outputs": [],
   "source": []
  }
 ],
 "metadata": {
  "kernelspec": {
   "display_name": "Python 3 (ipykernel)",
   "language": "python",
   "name": "python3"
  },
  "language_info": {
   "codemirror_mode": {
    "name": "ipython",
    "version": 3
   },
   "file_extension": ".py",
   "mimetype": "text/x-python",
   "name": "python",
   "nbconvert_exporter": "python",
   "pygments_lexer": "ipython3",
   "version": "3.10.8"
  }
 },
 "nbformat": 4,
 "nbformat_minor": 5
}
